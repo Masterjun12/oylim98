{
  "nbformat": 4,
  "nbformat_minor": 0,
  "metadata": {
    "colab": {
      "name": "걸음마들.ipynb",
      "provenance": [],
      "authorship_tag": "ABX9TyPtM6qzgM8IwsG1RiEaXrvo",
      "include_colab_link": true
    },
    "kernelspec": {
      "name": "python3",
      "display_name": "Python 3"
    },
    "language_info": {
      "name": "python"
    }
  },
  "cells": [
    {
      "cell_type": "markdown",
      "metadata": {
        "id": "view-in-github",
        "colab_type": "text"
      },
      "source": [
        "<a href=\"https://colab.research.google.com/github/oylim98/oylim98/blob/main/%EA%B1%B8%EC%9D%8C%EB%A7%88%EB%93%A4.ipynb\" target=\"_parent\"><img src=\"https://colab.research.google.com/assets/colab-badge.svg\" alt=\"Open In Colab\"/></a>"
      ]
    },
    {
      "cell_type": "markdown",
      "metadata": {
        "id": "Gg-GIYgeKNdu"
      },
      "source": [
        "첫학기 공부 자료들 (열심히 하기 위해 저장하였음)"
      ]
    },
    {
      "cell_type": "markdown",
      "metadata": {
        "id": "P1vdZNLzJuvN"
      },
      "source": [
        "클래스를 처음 써봄"
      ]
    },
    {
      "cell_type": "code",
      "metadata": {
        "id": "8XQJ5AH-Jla-"
      },
      "source": [
        "class School: \n",
        "    def __init__(self, name, kor, eng, mat, sci): \n",
        "        self.name = name self.kor = kor self.eng = eng self.mat = mat self.sci = sci\n",
        "\n",
        "def get_name(self):\n",
        "    return self.name\n",
        "\n",
        "def get_tot(self):\n",
        "    return self.tot\n",
        "\n",
        "def get_ave(self):\n",
        "    return self.ave\n",
        "\n",
        "def get_grade(self):\n",
        "    return self.grade\n",
        "\n",
        "def calculate(self):\n",
        "    self.tot = self.kor + self.eng + self.mat + self.sci\n",
        "    self.ave = self.tot/4\n",
        "\n",
        "def set_grade(self):\n",
        "    if self.ave >= 90:\n",
        "        self.grade = 'A'\n",
        "    elif self.ave >= 85:\n",
        "        self.grade = 'B+'\n",
        "    elif self.ave >= 80:\n",
        "        self.grade = 'B'\n",
        "    elif self.ave >= 70:\n",
        "        self.grade = 'C'\n",
        "    elif self.ave >= 60:\n",
        "        self.grade = 'D'\n",
        "    else:\n",
        "        self.grade = 'F'\n",
        "name = input('이름:') \n",
        "kor = int(input('국어 점수:')) \n",
        "eng = int(input('영어 점수:')) \n",
        "mat = int(input('수학 점수:')) \n",
        "sci = int(input('과학 점수:'))\n",
        "\n",
        "School1 = School(name, kor, eng, mat, sci)\n",
        "\n",
        "School1.calculate() School1.set_grade()\n",
        "\n",
        "print('이름:', School1.get_name()) \n",
        "print('합계:', School1.tot) \n",
        "print('평균:', School1.get_ave()) \n",
        "print('학점:', School1.get_grade())"
      ],
      "execution_count": null,
      "outputs": []
    },
    {
      "cell_type": "markdown",
      "metadata": {
        "id": "m5nLhta2JylF"
      },
      "source": [
        "함수 개념 익히기 였음"
      ]
    },
    {
      "cell_type": "code",
      "metadata": {
        "id": "hhdlM4d-J5fl"
      },
      "source": [
        "def rect(): \n",
        "    w = int(input('ㄱㄹ:')) \n",
        "    h = int(input('ㅅㄹ')) \n",
        "    return w * h\n",
        "\n",
        "def tri(): \n",
        "    w = int(input('밑:')) \n",
        "    h = input(input('윗 :')) \n",
        "    return w * h / 2\n",
        "\n",
        "def cir(): \n",
        "    \n",
        "    h = int(input('ㅂ:')) \n",
        "    s = 2 * h * 3.14 \n",
        "    a = h * h * 3.14 \n",
        "    return s,a\n",
        "\n",
        "while True: \n",
        "    n = int(input('1~4:')) \n",
        "    if n == 1: \n",
        "        print(rect()) \n",
        "    elif n == 2: \n",
        "        print(tri()) \n",
        "    elif n == 3: \n",
        "        print(cir()) \n",
        "    else: break \n",
        "        continue"
      ],
      "execution_count": null,
      "outputs": []
    },
    {
      "cell_type": "markdown",
      "metadata": {
        "id": "SZAm97TKJ6G1"
      },
      "source": [
        "생각없이 따라적은 json 크롤링"
      ]
    },
    {
      "cell_type": "code",
      "metadata": {
        "id": "mSq7TMydJ-9W"
      },
      "source": [
        "import requests import json\n",
        "\n",
        "url = \"https://yts.mx/api/v2/list_movies.json\" \n",
        "response = requests.get(url) \n",
        "html = json.loads(response.text) \n",
        "data = html['data'] \n",
        "movies = data['movies'] \n",
        "\n",
        "for m in range(10): \n",
        "    print(movies[m]['title'],movies[m]['rating'],movies[m]['year'])\n",
        "\n",
        "import requests import json\n",
        "\n",
        "url = \"https://yts.mx/api/v2/list_movies.json\" \n",
        "response = requests.get(url) \n",
        "html = json.loads(response.text) \n",
        "data = html['data'] \n",
        "movies = data['movies'] \n",
        "for m in range(10): \n",
        "    print(movies[m]['title'],movies[m]['rating'],movies[m]['year'])"
      ],
      "execution_count": null,
      "outputs": []
    },
    {
      "cell_type": "markdown",
      "metadata": {
        "id": "oYIwiKmoJ_cV"
      },
      "source": [
        "리스트 개념 익히기 였음"
      ]
    },
    {
      "cell_type": "code",
      "metadata": {
        "id": "fkkfKSD7KEte"
      },
      "source": [
        "name = [] \n",
        "kor = [] \n",
        "eng = [] \n",
        "mat = [] \n",
        "sci = [] \n",
        "tot = [] \n",
        "ave = []\n",
        "\n",
        "for i in range(3): \n",
        "  n = input('이름대시오') \n",
        "  k = int(input('국어성적')) \n",
        "  e = int(input('영어성적')) \n",
        "  m = int(input('수학성적')) \n",
        "  s = int(input('과학성적'))\n",
        "\n",
        "name.append(n)\n",
        "kor.append(k)\n",
        "eng.append(e)\n",
        "mat.append(m)\n",
        "sci.append(s)\n",
        "for x in range(3): \n",
        "  totlist = kor[x] + eng[x] + mat[x] + sci[x] \n",
        "  avelist = totlist/4\n",
        "\n",
        "tot.append(totlist)\n",
        "ave.append(avelist)\n",
        "for y in range(3): \n",
        "  print('\\n학생이름: ',name[y]) \n",
        "  print('\\n합산점수:',tot[y]) \n",
        "  print('\\n평균: ',ave[y])\n",
        "\n",
        "all = sum(tot)/3 \n",
        "print('\\n\\n전체:',all)"
      ],
      "execution_count": null,
      "outputs": []
    },
    {
      "cell_type": "markdown",
      "metadata": {
        "id": "NrOW_RfuKFiO"
      },
      "source": [
        "if 문 공부하기"
      ]
    },
    {
      "cell_type": "code",
      "metadata": {
        "id": "00MctNheKMht"
      },
      "source": [
        "kwh = int(input(\"전기사용량 : \"))\n",
        "month = int(input(\"월 : \")) \n",
        "weather = float(input(\"기후환경요금 : \"))\n",
        "adjust = float(input(\"연료비조정요금 : \"))\n",
        "\n",
        "if month == 7 or month == 8:\n",
        "  if kwh <= 300:\n",
        "    base_rate = 730\n",
        "    used_rate = kwh * 73.3\n",
        "  elif kwh <= 450:\n",
        "    base_rate = 1260\n",
        "    used_rate = (kwh-300) * 142.3 + 300 * 73.3\n",
        "  else:\n",
        "    base_rate = 6060\n",
        "    used_rate = (kwh-450) * 210.6 + 150 * 142.3 + 300 * 73.3\n",
        "else:\n",
        "  if kwh <= 200:\n",
        "    base_rate = 730\n",
        "    used_rate = kwh * 73.3\n",
        "  elif kwh <= 400:\n",
        "    base_rate = 1260\n",
        "    used_rate = (kwh-200) * 142.3 + 200 * 73.3\n",
        "  else:\n",
        "    base_rate = 6060\n",
        "    used_rate = (kwh-400) * 210.6 + 200 * 142.3 + 200 * 73.3\n",
        "\n",
        "\n",
        "weather_rate = kwh * weather\n",
        "adjust_rate = kwh * adjust\n",
        "\n",
        "rate = int(base_rate) + int(used_rate) + weather_rate + adjust_rate\n",
        "tax = round(rate * 0.1)\n",
        "\n",
        "fund = int(rate * 0.037 / 10) * 10\n",
        "\n",
        "bill = rate + tax + fund\n",
        "bill = int(bill / 10) * 10\n",
        "print(bill)"
      ],
      "execution_count": null,
      "outputs": []
    }
  ]
}
