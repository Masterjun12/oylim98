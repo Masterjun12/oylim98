{
  "nbformat": 4,
  "nbformat_minor": 0,
  "metadata": {
    "colab": {
      "name": "기말고사 전기료 계산 202192010 오유림.ipynb",
      "provenance": [],
      "collapsed_sections": [],
      "authorship_tag": "ABX9TyOdbcksypo1341hOtXJDrA4",
      "include_colab_link": true
    },
    "kernelspec": {
      "name": "python3",
      "display_name": "Python 3"
    },
    "language_info": {
      "name": "python"
    }
  },
  "cells": [
    {
      "cell_type": "markdown",
      "metadata": {
        "id": "view-in-github",
        "colab_type": "text"
      },
      "source": [
        "<a href=\"https://colab.research.google.com/github/oylim98/oylim98/blob/main/%ED%95%A8%EC%88%98%20%EC%9D%B4%EC%9A%A9%20%EC%A0%84%EA%B8%B0%EB%A3%8C%20%EA%B3%84%EC%82%B0%EA%B8%B0.ipynb\" target=\"_parent\"><img src=\"https://colab.research.google.com/assets/colab-badge.svg\" alt=\"Open In Colab\"/></a>"
      ]
    },
    {
      "cell_type": "code",
      "metadata": {
        "colab": {
          "base_uri": "https://localhost:8080/"
        },
        "id": "uocfl30Vgx8s",
        "outputId": "751543af-52ab-464b-bac0-adf6a1496be0"
      },
      "source": [
        "kwh = int(input(\"전기사용량 : \")) #전력량을 입력 받는다.\n",
        "def f_base(kwh):\n",
        "    if kwh <= 200:\n",
        "        base_rate = 910\n",
        "    elif kwh <= 400:\n",
        "        base_rate = 1600\n",
        "    else:\n",
        "        base_rate = 7300\n",
        "    return base_rate\n",
        "\n",
        "def f_used(kwh):\n",
        "    if kwh <= 200:\n",
        "        base_rate = 910\n",
        "        used_rate = kwh * 88.3\n",
        "    elif kwh <= 400:\n",
        "        base_rate = 1600\n",
        "        used_rate = (kwh-200) * 182.9 + 200 * 88.3\n",
        "    else:\n",
        "        base_rate = 7300\n",
        "        used_rate = (kwh-400) * 275.6 + 200 * 182.9 + 200 * 88.3\n",
        "    return base_rate + used_rate #최종 전기료를 한번에 리턴\n",
        "\n",
        "print('%.0f 원 입니다.'%f_used(kwh))"
      ],
      "execution_count": 79,
      "outputs": [
        {
          "output_type": "stream",
          "text": [
            "전기사용량 : 150\n",
            "14155 원 입니다.\n"
          ],
          "name": "stdout"
        }
      ]
    }
  ]
}